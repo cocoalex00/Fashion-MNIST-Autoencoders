{
 "cells": [
  {
   "cell_type": "markdown",
   "metadata": {},
   "source": [
    "# Autoencoder implementation on the Fashion MNIST dataset"
   ]
  },
  {
   "cell_type": "markdown",
   "metadata": {},
   "source": [
    "### 1. Imports"
   ]
  },
  {
   "cell_type": "code",
   "execution_count": 21,
   "metadata": {},
   "outputs": [],
   "source": [
    "# Imports \n",
    "import os \n",
    "\n",
    "import numpy as np \n",
    "\n",
    "import torch\n",
    "from torchvision.datasets import FashionMNIST\n",
    "import torch.nn as nn\n",
    "import torch.nn.functional as F\n",
    "\n",
    "import matplotlib.pyplot as plt"
   ]
  },
  {
   "cell_type": "code",
   "execution_count": 2,
   "metadata": {},
   "outputs": [
    {
     "name": "stdout",
     "output_type": "stream",
     "text": [
      "GPU available and ready to use\n"
     ]
    }
   ],
   "source": [
    "# Checking for CUDA device \n",
    "if torch.cuda.is_available():\n",
    "    device = torch.device(\"cuda:0\")\n",
    "    print(\"GPU available and ready to use\")\n",
    "else:\n",
    "    device = torch.device(\"cpu\")\n",
    "    print(\"GPU not available, using the CPU instead\")"
   ]
  },
  {
   "cell_type": "markdown",
   "metadata": {},
   "source": [
    "### 2. Loading the dataset"
   ]
  },
  {
   "cell_type": "code",
   "execution_count": 3,
   "metadata": {
    "scrolled": true
   },
   "outputs": [],
   "source": [
    "# downloading the dataset\n",
    "\n",
    "datapath = \".\\data\\FasionMNIST\"  # Path of the downloaded (or to download) data\n",
    "\n",
    "# Check if data is already downloaded, if it is just load it, otherwise fetch it\n",
    "if os.path.isdir(datapath):\n",
    "    Train_dataset = FashionMNIST(root = datapath + \"\\Train\", download = False)\n",
    "    Test_dataset = FashionMNIST(root = datapath + \"\\Test\", train = False, download = False)\n",
    "else:\n",
    "    Train_dataset = FashionMNIST(root = datapath + \"\\Train\", download = True)\n",
    "    Test_dataset = FashionMNIST(root = datapath + \"\\Test\", train = False, download = True)"
   ]
  },
  {
   "cell_type": "markdown",
   "metadata": {},
   "source": [
    "### 3. Preprocessing the dataset"
   ]
  },
  {
   "cell_type": "code",
   "execution_count": 15,
   "metadata": {
    "scrolled": true
   },
   "outputs": [],
   "source": [
    "# First, the datapoints need to be transformed to tensors#\n",
    "Train = []\n",
    "Test = []\n",
    "for x, y in Train_dataset:\n",
    "    # flattening the images (with .reshape) so they're compatible with a FFNN (Feed forward neural network)\n",
    "    Train.append(torch.from_numpy(np.array(x).reshape(784)/256)) # Dividing by 256 to normalize the pixel values\n",
    "    \n",
    "for x, y in Test_dataset:\n",
    "    Test.append(torch.from_numpy(np.array(x).reshape(784)/256))"
   ]
  },
  {
   "cell_type": "code",
   "execution_count": 19,
   "metadata": {
    "scrolled": false
   },
   "outputs": [
    {
     "data": {
      "text/plain": [
       "<matplotlib.image.AxesImage at 0x1b0cf46a3a0>"
      ]
     },
     "execution_count": 19,
     "metadata": {},
     "output_type": "execute_result"
    },
    {
     "data": {
      "image/png": "[encoded data removed]",
      "text/plain": [
       "<Figure size 432x288 with 1 Axes>"
      ]
     },
     "metadata": {
      "needs_background": "light"
     },
     "output_type": "display_data"
    }
   ],
   "source": [
    "# showing one datapoint as an example\n",
    "plt.imshow(Train[200].reshape(28,28), cmap=\"gray\")"
   ]
  },
  {
   "cell_type": "markdown",
   "metadata": {},
   "source": [
    "### 4. Creating the model's architecture"
   ]
  },
  {
   "cell_type": "code",
   "execution_count": 23,
   "metadata": {},
   "outputs": [],
   "source": [
    "class AutoEncoder(nn.Module):\n",
    "    \n",
    "    def __init__(self):\n",
    "        super(AutoEncoder, self).__init__()\n",
    "        \n",
    "        # The encoder part of the architecture\n",
    "        self.encoder = nn.Sequential(\n",
    "                            nn.Linear(784,300),\n",
    "                            nn.ReLU(),\n",
    "                            nn.Linear(300,150),\n",
    "                            nn.ReLU(),\n",
    "                            nn.Linear(150,25),\n",
    "                            nn.ReLU(),\n",
    "                            nn.Linear(25,8),\n",
    "                            nn.ReLU(),\n",
    "                        )\n",
    "        \n",
    "        # The decoder part of the architecture\n",
    "        self.decoder = nn.Sequential(\n",
    "                            nn.Linear(8,25),\n",
    "                            nn.ReLU(),\n",
    "                            nn.Linear(25,150),\n",
    "                            nn.ReLU(),\n",
    "                            nn.Linear(150,300),\n",
    "                            nn.ReLU(),\n",
    "                            nn.Linear(300,784),\n",
    "                            nn.ReLU(),\n",
    "                        )\n",
    "    \n",
    "    # Forward pass\n",
    "    def forward(self,x):\n",
    "        x = self.encoder(x)\n",
    "        x = self.decoder(x)\n",
    "        \n",
    "        return x\n",
    "        \n",
    "        "
   ]
  },
  {
   "cell_type": "code",
   "execution_count": null,
   "metadata": {},
   "outputs": [],
   "source": []
  }
 ],
 "metadata": {
  "kernelspec": {
   "display_name": "Python 3",
   "language": "python",
   "name": "python3"
  },
  "language_info": {
   "codemirror_mode": {
    "name": "ipython",
    "version": 3
   },
   "file_extension": ".py",
   "mimetype": "text/x-python",
   "name": "python",
   "nbconvert_exporter": "python",
   "pygments_lexer": "ipython3",
   "version": "3.9.1"
  }
 },
 "nbformat": 4,
 "nbformat_minor": 4
}
