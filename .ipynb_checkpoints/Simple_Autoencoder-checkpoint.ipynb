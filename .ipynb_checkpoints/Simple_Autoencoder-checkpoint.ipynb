{
 "cells": [
  {
   "cell_type": "markdown",
   "metadata": {},
   "source": [
    "# Feed-Forward Autoencoder Implementation on the Fashion MNIST Dataset"
   ]
  },
  {
   "cell_type": "markdown",
   "metadata": {},
   "source": [
    "### 1. Imports"
   ]
  },
  {
   "cell_type": "code",
   "execution_count": 1,
   "metadata": {},
   "outputs": [],
   "source": [
    "# Imports \n",
    "import os \n",
    "\n",
    "import numpy as np \n",
    "\n",
    "import torch\n",
    "from torchvision.datasets import FashionMNIST\n",
    "import torch.nn as nn\n",
    "import torch.nn.functional as F\n",
    "import torch.optim as optim \n",
    "\n",
    "import matplotlib.pyplot as plt\n",
    "\n",
    "from tqdm import tqdm, trange\n",
    "\n",
    "import seaborn as sns\n",
    "\n",
    "#Applying the default theme for matplotlib (Just to make it look cooler!)\n",
    "sns.set_theme()\n",
    "#sns.set_style(\"whitegrid\", {'axes.grid' : False})"
   ]
  },
  {
   "cell_type": "code",
   "execution_count": 2,
   "metadata": {
    "scrolled": true
   },
   "outputs": [
    {
     "name": "stdout",
     "output_type": "stream",
     "text": [
      "GPU available and ready to use\n"
     ]
    }
   ],
   "source": [
    "# Checking for CUDA device (Training on the GPU is faster)\n",
    "if torch.cuda.is_available():\n",
    "    device = torch.device(\"cuda:0\")\n",
    "    print(\"GPU available and ready to use\")\n",
    "else:\n",
    "    device = torch.device(\"cpu\")\n",
    "    print(\"GPU not available, using the CPU instead\")"
   ]
  },
  {
   "cell_type": "markdown",
   "metadata": {},
   "source": [
    "### 2. Loading the dataset"
   ]
  },
  {
   "cell_type": "code",
   "execution_count": 3,
   "metadata": {
    "scrolled": true
   },
   "outputs": [],
   "source": [
    "# downloading the dataset\n",
    "\n",
    "datapath = \".\\data\\FasionMNIST\"  # Path of the downloaded (or to download) data\n",
    "\n",
    "# Check if data is already downloaded, if it is just load it, otherwise fetch it\n",
    "if os.path.isdir(datapath):\n",
    "    Train_dataset = FashionMNIST(root = datapath + \"\\Train\", download = False)\n",
    "    Test_dataset = FashionMNIST(root = datapath + \"\\Test\", train = False, download = False)\n",
    "else:\n",
    "    Train_dataset = FashionMNIST(root = datapath + \"\\Train\", download = True)\n",
    "    Test_dataset = FashionMNIST(root = datapath + \"\\Test\", train = False, download = True)"
   ]
  },
  {
   "cell_type": "markdown",
   "metadata": {},
   "source": [
    "# 3. Preprocessing the dataset"
   ]
  },
  {
   "cell_type": "code",
   "execution_count": 4,
   "metadata": {
    "scrolled": true
   },
   "outputs": [],
   "source": [
    "# First, the datapoints need to be transformed to tensors#\n",
    "Train = []\n",
    "Test = []\n",
    "\n",
    "for x, y in Train_dataset:\n",
    "    # flattening the images (with .reshape) so they're compatible with a FFNN (Feed forward neural network)\n",
    "    Train.append(np.array(x,dtype= np.float32).reshape(784)/256) # Dividing by 256 to normalize the pixel values\n",
    "for x, y in Test_dataset:\n",
    "    # The datatype needs to be float32 (double)\n",
    "    Test.append(np.array(x,dtype= np.float32).reshape(784)/256)\n",
    "    \n",
    "# The two lists need to be converted to tensors so they're compatible with the PyTorch model\n",
    "\n",
    "Train = torch.as_tensor(np.array(Train), dtype = torch.float32, device = device)\n",
    "Test = torch.as_tensor(np.array(Test), dtype = torch.float32, device = device)"
   ]
  },
  {
   "cell_type": "code",
   "execution_count": 11,
   "metadata": {
    "scrolled": false
   },
   "outputs": [
    {
     "data": {
      "text/plain": [
       "<matplotlib.image.AxesImage at 0x22f2cb19c10>"
      ]
     },
     "execution_count": 11,
     "metadata": {},
     "output_type": "execute_result"
    },
    {
     "data": {
      "image/png": "[encoded data removed]",
      "text/plain": [
       "<Figure size 432x288 with 1 Axes>"
      ]
     },
     "metadata": {},
     "output_type": "display_data"
    }
   ],
   "source": [
    "# Showing one datapoint as an example\n",
    "# In order to print the picture to the screen it needs some preprocessing first:\n",
    "    # - The picture gets reshaped back to 28x28 pixels\n",
    "    # - If the tensor is on the GPU it needs to be sent back to the CPU via the command .cpu()\n",
    " \n",
    "Index = 68\n",
    "plt.grid(b=None) # Setting the grid off \n",
    "plt.title(\"Training image %i\" %(Index))\n",
    "plt.imshow(Train[Index].reshape(28,28).cpu(), cmap=\"gray\") "
   ]
  },
  {
   "cell_type": "markdown",
   "metadata": {},
   "source": [
    "### 4. Creating the model's architecture"
   ]
  },
  {
   "cell_type": "code",
   "execution_count": 60,
   "metadata": {},
   "outputs": [],
   "source": [
    "class FFAutoEncoder(nn.Module):\n",
    "    \n",
    "    def __init__(self):\n",
    "        super(FFAutoEncoder, self).__init__()\n",
    "        \n",
    "        # The encoder part of the architecture\n",
    "        self.encoder = nn.Sequential(\n",
    "                            nn.Linear(784,300),\n",
    "                            nn.ReLU(True),\n",
    "                            nn.Linear(300,150),\n",
    "                            nn.ReLU(True),\n",
    "                            nn.Linear(150,25),\n",
    "                            nn.ReLU(True),\n",
    "                            nn.Linear(25,2),\n",
    "                            nn.ReLU(True),\n",
    "                        )\n",
    "        \n",
    "        # The decoder part of the architecture\n",
    "        self.decoder = nn.Sequential(\n",
    "                            nn.Linear(2,25),\n",
    "                            nn.ReLU(True),\n",
    "                            nn.Linear(25,150),\n",
    "                            nn.ReLU(True),\n",
    "                            nn.Linear(150,300),\n",
    "                            nn.ReLU(True),\n",
    "                            nn.Linear(300,784),\n",
    "                            nn.ReLU(True),\n",
    "                        )\n",
    "    \n",
    "    # Forward pass\n",
    "    def forward(self,x):\n",
    "        x = self.encoder(x)\n",
    "        x = self.decoder(x)\n",
    "        return x\n",
    "        \n",
    "        "
   ]
  },
  {
   "cell_type": "markdown",
   "metadata": {},
   "source": [
    "### 5. Training the model "
   ]
  },
  {
   "cell_type": "code",
   "execution_count": 61,
   "metadata": {},
   "outputs": [
    {
     "name": "stdout",
     "output_type": "stream",
     "text": [
      "FFAutoEncoder(\n",
      "  (encoder): Sequential(\n",
      "    (0): Linear(in_features=784, out_features=300, bias=True)\n",
      "    (1): ReLU(inplace=True)\n",
      "    (2): Linear(in_features=300, out_features=150, bias=True)\n",
      "    (3): ReLU(inplace=True)\n",
      "    (4): Linear(in_features=150, out_features=25, bias=True)\n",
      "    (5): ReLU(inplace=True)\n",
      "    (6): Linear(in_features=25, out_features=2, bias=True)\n",
      "    (7): ReLU(inplace=True)\n",
      "  )\n",
      "  (decoder): Sequential(\n",
      "    (0): Linear(in_features=2, out_features=25, bias=True)\n",
      "    (1): ReLU(inplace=True)\n",
      "    (2): Linear(in_features=25, out_features=150, bias=True)\n",
      "    (3): ReLU(inplace=True)\n",
      "    (4): Linear(in_features=150, out_features=300, bias=True)\n",
      "    (5): ReLU(inplace=True)\n",
      "    (6): Linear(in_features=300, out_features=784, bias=True)\n",
      "    (7): ReLU(inplace=True)\n",
      "  )\n",
      ")\n"
     ]
    }
   ],
   "source": [
    "# Instantiate the architecture (The .to(device) instruction moves the model object to the memory of the device being used)\n",
    "model =  FFAutoEncoder().to(device)\n",
    "\n",
    "# Printing the model's architecture\n",
    "print(model)"
   ]
  },
  {
   "cell_type": "code",
   "execution_count": 62,
   "metadata": {},
   "outputs": [],
   "source": [
    "# Instantiate the loss function and optimizer\n",
    "loss_function = nn.MSELoss()  # Mean square error loss function\n",
    "optimizer = optim.Adam(model.parameters(), lr=0.0001)  # Adam optimizer"
   ]
  },
  {
   "cell_type": "code",
   "execution_count": 63,
   "metadata": {
    "scrolled": true
   },
   "outputs": [
    {
     "name": "stderr",
     "output_type": "stream",
     "text": [
      "Loss: 0.058564: 100%|████████████████████████████████████████████████████████████████| 800/800 [00:49<00:00, 16.19it/s]\n"
     ]
    }
   ],
   "source": [
    "nEpochs = 800  # Number of epochs\n",
    "\n",
    "Losses = []  # Array that keeps track of the model's loss over the epochs\n",
    "\n",
    "# Training loop\n",
    "for epoch in (t := trange(nEpochs)): \n",
    "    \n",
    "    # Zero the gradients of the optimizer\n",
    "    optimizer.zero_grad()\n",
    "    \n",
    "    # Forward pass\n",
    "    outputs = model(Train)\n",
    "    \n",
    "    # Calculate loss\n",
    "    loss = loss_function(outputs,Train)\n",
    "    \n",
    "    # Backward pass\n",
    "    loss.backward()\n",
    "    \n",
    "    # Optimizer step\n",
    "    optimizer.step()\n",
    "    \n",
    "    # Appending the loss of the current epoch to the Losses array\n",
    "    Losses.append(loss.item())\n",
    "    \n",
    "    t.set_description(\"Loss: %f\" %(loss.item()))"
   ]
  },
  {
   "cell_type": "markdown",
   "metadata": {},
   "source": [
    "### 6. Training metrics "
   ]
  },
  {
   "cell_type": "code",
   "execution_count": 64,
   "metadata": {},
   "outputs": [
    {
     "data": {
      "text/plain": [
       "[<matplotlib.lines.Line2D at 0x22f333e6c40>]"
      ]
     },
     "execution_count": 64,
     "metadata": {},
     "output_type": "execute_result"
    },
    {
     "data": {
      "image/png": "[encoded data removed]",
      "text/plain": [
       "<Figure size 432x288 with 1 Axes>"
      ]
     },
     "metadata": {},
     "output_type": "display_data"
    }
   ],
   "source": [
    "# Plotting the Training loss \n",
    "plt.title(\"Training loss of the model\")\n",
    "plt.plot(Losses)"
   ]
  },
  {
   "cell_type": "markdown",
   "metadata": {},
   "source": [
    "### 7. Save/Load the model"
   ]
  },
  {
   "cell_type": "code",
   "execution_count": 65,
   "metadata": {},
   "outputs": [
    {
     "name": "stdout",
     "output_type": "stream",
     "text": [
      "Model's state dictionary succesfully saved \n"
     ]
    }
   ],
   "source": [
    "# Saving the model's state dictionary \n",
    "Path = '.\\Models\\FFAutoencoder.pt'\n",
    "\n",
    "torch.save(model.state_dict(), Path) \n",
    "\n",
    "print(\"Model's state dictionary succesfully saved \")"
   ]
  },
  {
   "cell_type": "code",
   "execution_count": 66,
   "metadata": {},
   "outputs": [
    {
     "name": "stdout",
     "output_type": "stream",
     "text": [
      "Model's state dictionary succesfully loaded \n"
     ]
    }
   ],
   "source": [
    "# Loading the model's state dictionary \n",
    "\n",
    "model = FFAutoEncoder().to(device) # Creating the new AutoEncoder object\n",
    "model.load_state_dict(torch.load(Path))\n",
    "\n",
    "print(\"Model's state dictionary succesfully loaded \")"
   ]
  },
  {
   "cell_type": "markdown",
   "metadata": {},
   "source": [
    "### 8. Testing"
   ]
  },
  {
   "cell_type": "code",
   "execution_count": null,
   "metadata": {},
   "outputs": [],
   "source": []
  },
  {
   "cell_type": "markdown",
   "metadata": {},
   "source": [
    "### 9. Visualizing reconstructed images"
   ]
  },
  {
   "cell_type": "code",
   "execution_count": 69,
   "metadata": {},
   "outputs": [
    {
     "data": {
      "text/plain": [
       "<matplotlib.image.AxesImage at 0x22f381a8400>"
      ]
     },
     "execution_count": 69,
     "metadata": {},
     "output_type": "execute_result"
    },
    {
     "data": {
      "text/plain": [
       "<Figure size 432x288 with 0 Axes>"
      ]
     },
     "metadata": {},
     "output_type": "display_data"
    },
    {
     "data": {
      "image/png": "[encoded data removed]",
      "text/plain": [
       "<Figure size 432x288 with 2 Axes>"
      ]
     },
     "metadata": {},
     "output_type": "display_data"
    }
   ],
   "source": [
    "InputIndex = 40 # Index of the test image to show\n",
    "\n",
    "# Set to eval mode for inference and get the reconstructed image\n",
    "model.eval()\n",
    "reconstructed = model(Test[InputIndex]).cpu().detach().numpy()\n",
    "\n",
    "# Create the figure to plot the images\n",
    "plt.figure()\n",
    "f, ax = plt.subplots(1,2) # Create two subplots for the two images\n",
    "\n",
    "# Test image\n",
    "ax[0].title.set_text(\"Test image\") \n",
    "ax[0].grid(False) # Setting the seaborn grid to false \n",
    "ax[0].imshow(Test[InputIndex].reshape(28,28).cpu(), cmap=\"gray\")\n",
    "\n",
    "# Reconstructed Image \n",
    "ax[1].title.set_text(\"Reconstructed image\")\n",
    "ax[1].grid(False) # Setting the seaborn grid to false \n",
    "ax[1].imshow(reconstructed.reshape(28,28), cmap=\"gray\") "
   ]
  },
  {
   "cell_type": "markdown",
   "metadata": {},
   "source": [
    "### 10. Visualizing the latent space"
   ]
  },
  {
   "cell_type": "code",
   "execution_count": 68,
   "metadata": {},
   "outputs": [
    {
     "name": "stdout",
     "output_type": "stream",
     "text": [
      "[ 9.705267 12.547242]\n"
     ]
    }
   ],
   "source": [
    "encoded = np.asarray(model.encoder(Test[10]).detach().cpu())\n",
    "print(encoded)"
   ]
  },
  {
   "cell_type": "code",
   "execution_count": null,
   "metadata": {},
   "outputs": [],
   "source": []
  }
 ],
 "metadata": {
  "kernelspec": {
   "display_name": "Python 3",
   "language": "python",
   "name": "python3"
  },
  "language_info": {
   "codemirror_mode": {
    "name": "ipython",
    "version": 3
   },
   "file_extension": ".py",
   "mimetype": "text/x-python",
   "name": "python",
   "nbconvert_exporter": "python",
   "pygments_lexer": "ipython3",
   "version": "3.9.1"
  }
 },
 "nbformat": 4,
 "nbformat_minor": 4
}
